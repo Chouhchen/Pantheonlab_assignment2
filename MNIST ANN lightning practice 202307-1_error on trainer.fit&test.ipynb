{
 "cells": [
  {
   "cell_type": "code",
   "execution_count": 1,
   "id": "0a1ba102",
   "metadata": {},
   "outputs": [],
   "source": [
    "# MNIST ANN Pytorch Lightning practice (2020 by patrick loeber, with error of train_dataloader not defined)"
   ]
  },
  {
   "cell_type": "code",
   "execution_count": 7,
   "id": "d6298c21",
   "metadata": {},
   "outputs": [],
   "source": [
    "import torch\n",
    "import torch.nn as nn\n",
    "import torchvision\n",
    "import torchvision.transforms as transforms\n",
    "import matplotlib as plt\n",
    "\n",
    "import pytorch_lightning as pl\n",
    "import torch.nn.functional as F\n",
    "from pytorch_lightning import Trainer\n"
   ]
  },
  {
   "cell_type": "code",
   "execution_count": 8,
   "id": "c8512028",
   "metadata": {},
   "outputs": [],
   "source": [
    "# define hyperparameters\n",
    "input_size = 784 # image pixel 28 x 28\n",
    "hidden_size = 100  # the higher the more accurate\n",
    "output_size = 10  # number of classes\n",
    "epochs = 2\n",
    "batch_size = 100\n",
    "learning_rate = 0.01"
   ]
  },
  {
   "cell_type": "code",
   "execution_count": 10,
   "id": "6221f2cd",
   "metadata": {},
   "outputs": [
    {
     "name": "stderr",
     "output_type": "stream",
     "text": [
      "GPU available: False, used: False\n",
      "TPU available: False, using: 0 TPU cores\n",
      "IPU available: False, using: 0 IPUs\n",
      "HPU available: False, using: 0 HPUs\n"
     ]
    },
    {
     "ename": "NameError",
     "evalue": "name 'train_dataloader' is not defined",
     "output_type": "error",
     "traceback": [
      "\u001b[0;31m---------------------------------------------------------------------------\u001b[0m",
      "\u001b[0;31mNameError\u001b[0m                                 Traceback (most recent call last)",
      "\u001b[0;32m/var/folders/gt/h6dfpx714vg5gzxdq8xxtdd40000gn/T/ipykernel_1016/595962919.py\u001b[0m in \u001b[0;36m<module>\u001b[0;34m\u001b[0m\n\u001b[1;32m     77\u001b[0m     \u001b[0mtrainer\u001b[0m \u001b[0;34m=\u001b[0m \u001b[0mTrainer\u001b[0m\u001b[0;34m(\u001b[0m\u001b[0mmax_epochs\u001b[0m\u001b[0;34m=\u001b[0m\u001b[0mepochs\u001b[0m\u001b[0;34m)\u001b[0m \u001b[0;31m# use gpu by gpu= 1 or 2 etc. or ddp for distributed backed\u001b[0m\u001b[0;34m\u001b[0m\u001b[0;34m\u001b[0m\u001b[0m\n\u001b[1;32m     78\u001b[0m     \u001b[0mmodel\u001b[0m \u001b[0;34m=\u001b[0m \u001b[0mLitAnn\u001b[0m\u001b[0;34m(\u001b[0m\u001b[0minput_size\u001b[0m\u001b[0;34m,\u001b[0m \u001b[0mhidden_size\u001b[0m\u001b[0;34m,\u001b[0m \u001b[0moutput_size\u001b[0m\u001b[0;34m)\u001b[0m\u001b[0;34m\u001b[0m\u001b[0;34m\u001b[0m\u001b[0m\n\u001b[0;32m---> 79\u001b[0;31m     \u001b[0mtrainer\u001b[0m\u001b[0;34m.\u001b[0m\u001b[0mfit\u001b[0m\u001b[0;34m(\u001b[0m\u001b[0mmodel\u001b[0m\u001b[0;34m,\u001b[0m \u001b[0mtrain_dataloader\u001b[0m\u001b[0;34m,\u001b[0m \u001b[0mval_dataloader\u001b[0m\u001b[0;34m)\u001b[0m\u001b[0;34m\u001b[0m\u001b[0;34m\u001b[0m\u001b[0m\n\u001b[0m\u001b[1;32m     80\u001b[0m     \u001b[0mtrainer\u001b[0m\u001b[0;34m.\u001b[0m\u001b[0mtest\u001b[0m\u001b[0;34m(\u001b[0m\u001b[0;34m)\u001b[0m\u001b[0;34m\u001b[0m\u001b[0;34m\u001b[0m\u001b[0m\n\u001b[1;32m     81\u001b[0m \u001b[0;34m\u001b[0m\u001b[0m\n",
      "\u001b[0;31mNameError\u001b[0m: name 'train_dataloader' is not defined"
     ]
    }
   ],
   "source": [
    "class LitAnn(pl.LightningModule):\n",
    "    def __init__(self, input_size, hidden_size, output_size):\n",
    "        super(LitAnn, self).__init__()\n",
    "        self.input_size = input_size\n",
    "        self.l1 = nn.Linear(input_size, hidden_size)\n",
    "        self.relu = nn.ReLU()\n",
    "        self.l2 = nn.Linear(hidden_size, output_size)\n",
    "        \n",
    "    def forward(self, x):\n",
    "        out = self.l1(x)\n",
    "        out = self.relu(out)\n",
    "        out = self.l2(out)\n",
    "        return out\n",
    "\n",
    "    def training_step(self, batch, batch_idx):\n",
    "        # training_step defines the train loop.\n",
    "        images, labels = batch\n",
    "        images = images.reshape(-1, 28*28)\n",
    "        \n",
    "        #forward pass\n",
    "        outputs = self(images)\n",
    "        loss = F.cross_entropy(outputs, labels)\n",
    "        \n",
    "        tensorboard_logs = {'train_loss': loss}\n",
    "        return {'loss': loss, 'log': tensorboard_logs}  # can add tensorboard_logs\n",
    "     \n",
    "    \n",
    "    #load training data\n",
    "    def train_dataloader(self):  # error?\n",
    "        train_dataset = torchvision.datasets.MNIST(root=\"./data\", \n",
    "                                                   train=True, \n",
    "                                                   transform=transforms.ToTensor(), \n",
    "                                                   download=True)\n",
    "        \n",
    "        train_loader = torch.utils.data.DataLoader(dataset=train_dataset, \n",
    "                                                   batch_size=batch_size,\n",
    "                                                   num_workers=4, # increase training speed\n",
    "                                                   shuffle=True)\n",
    "        return train_loader\n",
    "\n",
    "    # test validation       \n",
    "    def validation_step(self, batch, batch_idx):\n",
    "        images, labels = batch\n",
    "        images = images.reshape(-1, 28*28)\n",
    "        \n",
    "        #forward pass\n",
    "        outputs = self(images)\n",
    "        loss = F.cross_entropy(outputs, labels)\n",
    "        return {'val_loss': loss}\n",
    "\n",
    "        #validation dataset, used to fine tune the hyper parameters of the model before test.\n",
    "    def val_dataloader(self):\n",
    "        val_dataset = torchvision.datasets.MNIST(root=\"./data\", \n",
    "                                                   train=False, \n",
    "                                                   transform=transforms.ToTensor())\n",
    "        \n",
    "        val_loader = torch.utils.data.DataLoader(dataset=val_dataset, \n",
    "                                                   batch_size=batch_size,\n",
    "                                                   num_workers=4,\n",
    "                                                   shuffle=False)\n",
    "        return val_loader\n",
    "    \n",
    "    def on_validation_epoch_end(self, outputs):\n",
    "        avg_loss = torch.stack([x['val_loss'] for x in outputs]).mean()\n",
    "#       tensorboard_logs = {'val_loss': avg_loss}\n",
    "        return{'val_loss': avg_loss} #error?\n",
    "#[docs]    def on_validation_epoch_end(self, trainer: \"pl.Trainer\", pl_module: \"pl.LightningModule\") -> None:\n",
    "        \"\"\"Called when the val epoch ends.\"\"\"\n",
    "        \n",
    "    def configure_optimizers(self):\n",
    "        return torch.optim.Adam(model.parameters(), lr=learning_rate)\n",
    "    \n",
    "if __name__ == '__main__':\n",
    "    \n",
    "    # inside Trainer, can add fast_dev_run=True: send single batch to test if the model works\n",
    "    # to find the best learning rate : auto_lr_find=True in Trainer\n",
    "    trainer = Trainer(max_epochs=epochs) # use gpu by gpu= 1 or 2 etc. or ddp for distributed backed\n",
    "    model = LitAnn(input_size, hidden_size, output_size)\n",
    "    trainer.fit(model, train_dataloader, val_dataloader)  \n",
    "    trainer.test()\n",
    "\n",
    "\n",
    "\n",
    "\n",
    "    \n",
    "\n",
    "        "
   ]
  },
  {
   "cell_type": "code",
   "execution_count": null,
   "id": "5bfca180",
   "metadata": {},
   "outputs": [],
   "source": []
  },
  {
   "cell_type": "code",
   "execution_count": 70,
   "id": "c1de2753",
   "metadata": {
    "scrolled": true
   },
   "outputs": [],
   "source": []
  },
  {
   "cell_type": "code",
   "execution_count": null,
   "id": "fa55744d",
   "metadata": {},
   "outputs": [],
   "source": []
  }
 ],
 "metadata": {
  "kernelspec": {
   "display_name": "Python 3 (ipykernel)",
   "language": "python",
   "name": "python3"
  },
  "language_info": {
   "codemirror_mode": {
    "name": "ipython",
    "version": 3
   },
   "file_extension": ".py",
   "mimetype": "text/x-python",
   "name": "python",
   "nbconvert_exporter": "python",
   "pygments_lexer": "ipython3",
   "version": "3.9.13"
  }
 },
 "nbformat": 4,
 "nbformat_minor": 5
}

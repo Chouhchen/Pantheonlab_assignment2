{
 "cells": [
  {
   "cell_type": "code",
   "execution_count": 1,
   "id": "0a1ba102",
   "metadata": {},
   "outputs": [],
   "source": [
    "# MNIST ANN Pytorch practice_0.52"
   ]
  },
  {
   "cell_type": "code",
   "execution_count": 24,
   "id": "d6298c21",
   "metadata": {},
   "outputs": [
    {
     "data": {
      "text/plain": [
       "\"\\ndevice = torch.device('cuda' if torch.cuda.is_available() else 'cpu')\\n\""
      ]
     },
     "execution_count": 24,
     "metadata": {},
     "output_type": "execute_result"
    }
   ],
   "source": [
    "import torch\n",
    "import torch.nn as nn\n",
    "import torchvision\n",
    "import torchvision.transforms as transforms\n",
    "import sys # to be used in showing figure in Tensorboard\n",
    "# visualize data with matplot\n",
    "\"\"\"\n",
    "import matplotlib.pyplot as plt \n",
    "\"\"\"\n",
    "\n",
    "# visualize data with TensorBoard localhost:6006\n",
    "\n",
    "from torch.utils.tensorboard import SummaryWriter\n",
    "writer = SummaryWriter(\"runs/mnist\")\n",
    "\n",
    "\n",
    "#device configuration using cpu only\n",
    "\"\"\"\n",
    "device = torch.device('cpu')\n",
    "\"\"\"\n",
    "\n",
    "# use gpu: \n",
    "\"\"\"\n",
    "device = torch.device('cuda' if torch.cuda.is_available() else 'cpu')\n",
    "\"\"\""
   ]
  },
  {
   "cell_type": "code",
   "execution_count": 25,
   "id": "c8512028",
   "metadata": {},
   "outputs": [
    {
     "name": "stdout",
     "output_type": "stream",
     "text": [
      "torch.Size([100, 1, 28, 28]) torch.Size([100])\n"
     ]
    },
    {
     "data": {
      "text/plain": [
       "<bound method SummaryWriter.close of <torch.utils.tensorboard.writer.SummaryWriter object at 0x7fb718b64040>>"
      ]
     },
     "execution_count": 25,
     "metadata": {},
     "output_type": "execute_result"
    }
   ],
   "source": [
    "# define hyperparameters\n",
    "input_size = 784 # image pixel 28 x 28\n",
    "hidden_size = 100  # the higher the more accurate\n",
    "output_size = 10  # number of classes 0 to 9\n",
    "epochs = 10\n",
    "batch_size = 100\n",
    "learning_rate = 0.001\n",
    "\n",
    "# import MNIST dataset\n",
    "train_dataset = torchvision.datasets.MNIST(root=\"./data\", train=True, \n",
    "                                           transform=transforms.ToTensor(), download=True)\n",
    "test_dataset = torchvision.datasets.MNIST(root=\"./data\", train=False, \n",
    "                                          transform=transforms.ToTensor())\n",
    "\n",
    "train_loader = torch.utils.data.DataLoader(dataset=train_dataset, batch_size=batch_size, shuffle=True)\n",
    "test_loader = torch.utils.data.DataLoader(dataset=test_dataset, batch_size=batch_size, shuffle=False)\n",
    "\n",
    "# to view data\n",
    "\n",
    "examples = iter(train_loader)\n",
    "samples, labels = next(examples)\n",
    "print(samples.shape, labels.shape)\n",
    "\n",
    "\"\"\"\n",
    "for i in range(6):\n",
    "    plt.subplot(2, 3, i+1)\n",
    "    plt.imshow(samples[i][0], cmap='gray')\n",
    "\"\"\"\n",
    "\n",
    "# view data on Tensorboard localhost:6006, but get blank page\n",
    "\n",
    "img_grid = torchvision.utils.make_grid(samples)\n",
    "writer.add_image('mnist_images', img_grid)\n",
    "writer.close \n",
    "# sys.exit() \n"
   ]
  },
  {
   "cell_type": "code",
   "execution_count": 26,
   "id": "6221f2cd",
   "metadata": {},
   "outputs": [],
   "source": [
    "class Ann(nn.Module):\n",
    "    def __init__(self, input_size, hidden_size, output_size):\n",
    "        super(Ann, self).__init__()\n",
    "        self.input_size = input_size\n",
    "        self.l1 = nn.Linear(input_size, hidden_size) # hidden layer from input\n",
    "        self.relu = nn.ReLU() # activation function\n",
    "        self.l2 = nn.Linear(hidden_size, output_size) # hidden layer befor output\n",
    "        \n",
    "    def forward(self, x):\n",
    "        out = self.l1(x)\n",
    "        out = self.relu(out)\n",
    "        out = self.l2(out)\n",
    "        return out\n",
    "\n"
   ]
  },
  {
   "cell_type": "code",
   "execution_count": 27,
   "id": "64e0c64b",
   "metadata": {},
   "outputs": [],
   "source": [
    "# create model\n",
    "model = Ann(input_size, hidden_size, output_size)"
   ]
  },
  {
   "cell_type": "code",
   "execution_count": 28,
   "id": "c1de2753",
   "metadata": {
    "scrolled": true
   },
   "outputs": [
    {
     "data": {
      "text/plain": [
       "<function sys.exit(status=None, /)>"
      ]
     },
     "execution_count": 28,
     "metadata": {},
     "output_type": "execute_result"
    }
   ],
   "source": [
    "# loss and optimizer\n",
    "criterion = nn.CrossEntropyLoss() # use cross entropy loss as loss function\n",
    "optimizer = torch.optim.Adam(model.parameters(), lr=learning_rate) # use Adam as optimizer\n",
    "\n",
    "#visualize with tensorboard\n",
    "\n",
    "writer.add_graph(model, samples.reshape(-1, 28*28))\n",
    "writer.close()\n",
    "sys.exit"
   ]
  },
  {
   "cell_type": "code",
   "execution_count": 29,
   "id": "ff5d31a1",
   "metadata": {},
   "outputs": [
    {
     "name": "stdout",
     "output_type": "stream",
     "text": [
      "Epoch [1/10], Step [600/600], Loss: 0.2777\n",
      "Epoch [2/10], Step [600/600], Loss: 0.2507\n",
      "Epoch [3/10], Step [600/600], Loss: 0.1399\n",
      "Epoch [4/10], Step [600/600], Loss: 0.1418\n",
      "Epoch [5/10], Step [600/600], Loss: 0.0721\n",
      "Epoch [6/10], Step [600/600], Loss: 0.0484\n",
      "Epoch [7/10], Step [600/600], Loss: 0.0522\n",
      "Epoch [8/10], Step [600/600], Loss: 0.0174\n",
      "Epoch [9/10], Step [600/600], Loss: 0.0771\n",
      "Epoch [10/10], Step [600/600], Loss: 0.0335\n"
     ]
    }
   ],
   "source": [
    "# training loop\n",
    "number_steps = len(train_loader)\n",
    "\n",
    "# for tensorboard views (TBV)\n",
    "\n",
    "running_loss = 0.0  # for TBV\n",
    "running_correct = 0 # for TBV\n",
    "\n",
    "\n",
    "for epoch in range(epochs):\n",
    "    for i, (images, labels) in enumerate(train_loader):\n",
    "        images = images.reshape(-1, 28*28) # reshape images's tensor 1, 28, 28 to 784\n",
    "        labels = labels\n",
    "        \n",
    "        #forward pass\n",
    "        outputs = model(images)\n",
    "        loss = criterion(outputs, labels)\n",
    "        \n",
    "        #backward pass\n",
    "        optimizer.zero_grad() # empty the value in the gradian decent\n",
    "        loss.backward() # backward propagation\n",
    "        optimizer.step() # update step\n",
    "\n",
    "        ### for TBV ###\n",
    "        running_loss == loss.item() \n",
    "        _, predicted = torch.max(outputs, 1) \n",
    "        running_correct += (predicted == labels).sum().item() \n",
    "        ###############\n",
    "        \n",
    "        # print information of each epoch\n",
    "        if (i+1) % 600 == 0:\n",
    "            print (f'Epoch [{epoch+1}/{epochs}], Step [{i+1}/{number_steps}], Loss: {loss.item():.4f}')\n",
    "        \n",
    "        ### for TBV ###\n",
    "        writer.add_scalar('training loss', running_loss /100, epoch * number_steps +i)\n",
    "        running_accuracy = running_correct /100 / predicted.size(0)\n",
    "        writer.add_scalar('accuracy', running_accuracy, epoch * number_steps + i)\n",
    "        running_correct = 0\n",
    "        running_loss = 0.0\n",
    "        #################\n",
    "\n",
    "# result shows training lost decreasing to around 0.03\n",
    "            "
   ]
  },
  {
   "cell_type": "code",
   "execution_count": null,
   "id": "9c50d722",
   "metadata": {},
   "outputs": [],
   "source": [
    "#test model\n",
    "\n",
    "with torch.no_grad():\n",
    "    n_correct = 0\n",
    "    n_samples = 0\n",
    "    for impages, labels in test_loader:\n",
    "        images = images.reshape(-1, 28*28)\n",
    "        labels = labels\n",
    "        output = model(images)\n",
    "        # max returns (value, index)\n",
    "        _, prediction = torch.max(outputs, 1) \n",
    "        n_samples += labels.shape[0]\n",
    "        n_correct += (prediction == labels).sum().item()\n",
    "    \n",
    "    for images, labels in test_loader:\n",
    "        images = images.reshape(-1, 28*28)\n",
    "        labels = labels\n",
    "        outputs = model(images)\n",
    "        # max returns (value ,index)\n",
    "        _, predicted = torch.max(outputs.data, 1)\n",
    "        n_samples += labels.size(0)\n",
    "        n_correct += (predicted == labels).sum().item()\n",
    "\n",
    "    acc = 100 * n_correct / n_samples\n",
    "    print(f'Accuracy of the network on the 10000 test images: {acc} %')\n",
    "\n",
    "    # Accuracy rate of the network on the 10000 test images: 51.825 % with learning rate of 0.001\n",
    "    # Accuracy rate improved to  around 53 % when lower the learning rate at 0.01\n",
    "    \n",
    "\n"
   ]
  },
  {
   "cell_type": "code",
   "execution_count": null,
   "id": "fa55744d",
   "metadata": {},
   "outputs": [],
   "source": []
  }
 ],
 "metadata": {
  "kernelspec": {
   "display_name": "Python 3 (ipykernel)",
   "language": "python",
   "name": "python3"
  },
  "language_info": {
   "codemirror_mode": {
    "name": "ipython",
    "version": 3
   },
   "file_extension": ".py",
   "mimetype": "text/x-python",
   "name": "python",
   "nbconvert_exporter": "python",
   "pygments_lexer": "ipython3",
   "version": "3.9.13"
  }
 },
 "nbformat": 4,
 "nbformat_minor": 5
}

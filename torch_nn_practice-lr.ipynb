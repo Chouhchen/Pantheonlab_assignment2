{
 "cells": [
  {
   "cell_type": "markdown",
   "id": "0f58b245",
   "metadata": {},
   "source": [
    "import torch\n",
    "import torch.nn as nn\n",
    "import numpy as np\n",
    "from sklearn import datasets\n",
    "import matplotlib.pyplot as plt\n",
    "\n",
    "# create regression data set\n",
    "x_np , y_np = datasets.make_regression(n_samples=20, n_features=1, noise=20, random_state=10)\n",
    "\n",
    "# format data set for torch tensor\n",
    "x = torch.from_numpy(x_np.astype(np.float32))\n",
    "y = torch.from_numpy(y_np.astype(np.float32))\n",
    "y = y.view(y.shape[0], 1)\n",
    "\n",
    "n_samples, n_features = x.shape\n"
   ]
  },
  {
   "cell_type": "code",
   "execution_count": 17,
   "id": "ba188181",
   "metadata": {},
   "outputs": [],
   "source": [
    "# create model\n",
    "input_size = n_features\n",
    "output_size = 1\n",
    "model = nn.Linear(input_size, output_size)"
   ]
  },
  {
   "cell_type": "code",
   "execution_count": 18,
   "id": "03496233",
   "metadata": {},
   "outputs": [],
   "source": [
    "#training setting\n",
    "learning_rate = 0.01\n",
    "n_iters = 100\n",
    "\n",
    "# loss function\n",
    "loss = nn.MSELoss()\n",
    "\n",
    "#gradient descent\n",
    "optimizer = torch.optim.SGD(model.parameters(), lr=learning_rate) \n"
   ]
  },
  {
   "cell_type": "code",
   "execution_count": 19,
   "id": "655e04ea",
   "metadata": {},
   "outputs": [
    {
     "name": "stdout",
     "output_type": "stream",
     "text": [
      "epoch: 1, loss = 1632.23\n",
      "epoch: 2, loss = 1592.25\n",
      "epoch: 3, loss = 1553.60\n",
      "epoch: 4, loss = 1516.23\n",
      "epoch: 5, loss = 1480.10\n",
      "epoch: 6, loss = 1445.17\n",
      "epoch: 7, loss = 1411.40\n",
      "epoch: 8, loss = 1378.74\n",
      "epoch: 9, loss = 1347.15\n",
      "epoch: 10, loss = 1316.61\n"
     ]
    }
   ],
   "source": [
    "# training loop\n",
    "num_epochs = 10\n",
    "for epoch in range(num_epochs):\n",
    "    # predict = forward pass\n",
    "    y_predicted = model(x)\n",
    "\n",
    "    # loss\n",
    "    l = loss(y_predicted, y)\n",
    "\n",
    "    # calculate gradients = backward pass\n",
    "    l.backward()\n",
    "\n",
    "    # update weights\n",
    "    optimizer.step()\n",
    "\n",
    "    # zero the gradients after updating\n",
    "    optimizer.zero_grad()\n",
    "    \n",
    "    if (epoch+1) % 1 == 0:\n",
    "        print(f'epoch: {epoch+1}, loss = {l.item():.2f}')\n"
   ]
  },
  {
   "cell_type": "code",
   "execution_count": 15,
   "id": "cd73a27a",
   "metadata": {},
   "outputs": [
    {
     "data": {
      "image/png": "[encoded data removed]",
      "text/plain": [
       "<Figure size 640x480 with 1 Axes>"
      ]
     },
     "metadata": {},
     "output_type": "display_data"
    }
   ],
   "source": [
    "# Plot\n",
    "# detach gradient as false\n",
    "\n",
    "predicted = model(x).detach().numpy()\n",
    "\n",
    "plt.plot(x_np, y_np, 'ro')\n",
    "plt.plot(x_np, predicted, 'b')\n",
    "plt.show()"
   ]
  },
  {
   "cell_type": "code",
   "execution_count": null,
   "id": "d345232b",
   "metadata": {},
   "outputs": [],
   "source": []
  }
 ],
 "metadata": {
  "kernelspec": {
   "display_name": "Python 3 (ipykernel)",
   "language": "python",
   "name": "python3"
  },
  "language_info": {
   "codemirror_mode": {
    "name": "ipython",
    "version": 3
   },
   "file_extension": ".py",
   "mimetype": "text/x-python",
   "name": "python",
   "nbconvert_exporter": "python",
   "pygments_lexer": "ipython3",
   "version": "3.9.13"
  }
 },
 "nbformat": 4,
 "nbformat_minor": 5
}
